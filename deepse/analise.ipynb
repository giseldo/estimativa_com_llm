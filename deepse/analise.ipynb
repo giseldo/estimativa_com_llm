{
 "cells": [
  {
   "cell_type": "code",
   "execution_count": 6,
   "metadata": {},
   "outputs": [
    {
     "data": {
      "text/html": [
       "<div>\n",
       "<style scoped>\n",
       "    .dataframe tbody tr th:only-of-type {\n",
       "        vertical-align: middle;\n",
       "    }\n",
       "\n",
       "    .dataframe tbody tr th {\n",
       "        vertical-align: top;\n",
       "    }\n",
       "\n",
       "    .dataframe thead th {\n",
       "        text-align: right;\n",
       "    }\n",
       "</style>\n",
       "<table border=\"1\" class=\"dataframe\">\n",
       "  <thead>\n",
       "    <tr style=\"text-align: right;\">\n",
       "      <th></th>\n",
       "      <th>project</th>\n",
       "      <th>issuekey</th>\n",
       "      <th>title</th>\n",
       "      <th>description</th>\n",
       "      <th>storypoint</th>\n",
       "    </tr>\n",
       "  </thead>\n",
       "  <tbody>\n",
       "    <tr>\n",
       "      <th>0</th>\n",
       "      <td>appceleratorstudio</td>\n",
       "      <td>TISTUD-6</td>\n",
       "      <td>Add CA against object literals in function inv...</td>\n",
       "      <td>{html}&lt;div&gt;&lt;p&gt;The idea here is that if our met...</td>\n",
       "      <td>1</td>\n",
       "    </tr>\n",
       "    <tr>\n",
       "      <th>1</th>\n",
       "      <td>appceleratorstudio</td>\n",
       "      <td>TISTUD-9</td>\n",
       "      <td>Update branding for Appcelerator plugin to App...</td>\n",
       "      <td>{html}&lt;div&gt;&lt;p&gt;At least fix feature icons, asso...</td>\n",
       "      <td>1</td>\n",
       "    </tr>\n",
       "    <tr>\n",
       "      <th>2</th>\n",
       "      <td>appceleratorstudio</td>\n",
       "      <td>TISTUD-11</td>\n",
       "      <td>Create new JSON schema for SDK team</td>\n",
       "      <td>{html}&lt;div&gt;&lt;p&gt;Create JSON schema containing pr...</td>\n",
       "      <td>1</td>\n",
       "    </tr>\n",
       "    <tr>\n",
       "      <th>3</th>\n",
       "      <td>appceleratorstudio</td>\n",
       "      <td>TISTUD-13</td>\n",
       "      <td>Create Project References Property Page</td>\n",
       "      <td>{html}&lt;div&gt;&lt;p&gt;Create property page for project...</td>\n",
       "      <td>1</td>\n",
       "    </tr>\n",
       "    <tr>\n",
       "      <th>4</th>\n",
       "      <td>appceleratorstudio</td>\n",
       "      <td>TISTUD-16</td>\n",
       "      <td>New Desktop Project Wizard</td>\n",
       "      <td>{html}&lt;div&gt;&lt;p&gt;Desktop (need to convert existin...</td>\n",
       "      <td>1</td>\n",
       "    </tr>\n",
       "    <tr>\n",
       "      <th>5</th>\n",
       "      <td>appceleratorstudio</td>\n",
       "      <td>TISTUD-21</td>\n",
       "      <td>Launch application on Blackberry emulator</td>\n",
       "      <td>{html}&lt;div&gt;&lt;p&gt;Note that some emulators are pla...</td>\n",
       "      <td>1</td>\n",
       "    </tr>\n",
       "    <tr>\n",
       "      <th>6</th>\n",
       "      <td>appceleratorstudio</td>\n",
       "      <td>TISTUD-22</td>\n",
       "      <td>Launch application on iOS device (tethered)</td>\n",
       "      <td>{html}&lt;div&gt;&lt;p&gt;Replicate experience from TiDev ...</td>\n",
       "      <td>1</td>\n",
       "    </tr>\n",
       "    <tr>\n",
       "      <th>7</th>\n",
       "      <td>appceleratorstudio</td>\n",
       "      <td>TISTUD-23</td>\n",
       "      <td>Launch application on Android device (tethered)</td>\n",
       "      <td>{html}&lt;div&gt;&lt;p&gt;Check for items below as part of...</td>\n",
       "      <td>1</td>\n",
       "    </tr>\n",
       "    <tr>\n",
       "      <th>8</th>\n",
       "      <td>appceleratorstudio</td>\n",
       "      <td>TISTUD-24</td>\n",
       "      <td>Create packager for Desktop project</td>\n",
       "      <td>{html}&lt;div&gt;&lt;p&gt;Desktop, send ZIP file to web se...</td>\n",
       "      <td>1</td>\n",
       "    </tr>\n",
       "    <tr>\n",
       "      <th>9</th>\n",
       "      <td>appceleratorstudio</td>\n",
       "      <td>TISTUD-25</td>\n",
       "      <td>Create packager for Mobile/iOS project</td>\n",
       "      <td>{html}&lt;div&gt;&lt;p&gt;Follow existing screens/workflow...</td>\n",
       "      <td>1</td>\n",
       "    </tr>\n",
       "  </tbody>\n",
       "</table>\n",
       "</div>"
      ],
      "text/plain": [
       "              project   issuekey  \\\n",
       "0  appceleratorstudio   TISTUD-6   \n",
       "1  appceleratorstudio   TISTUD-9   \n",
       "2  appceleratorstudio  TISTUD-11   \n",
       "3  appceleratorstudio  TISTUD-13   \n",
       "4  appceleratorstudio  TISTUD-16   \n",
       "5  appceleratorstudio  TISTUD-21   \n",
       "6  appceleratorstudio  TISTUD-22   \n",
       "7  appceleratorstudio  TISTUD-23   \n",
       "8  appceleratorstudio  TISTUD-24   \n",
       "9  appceleratorstudio  TISTUD-25   \n",
       "\n",
       "                                               title  \\\n",
       "0  Add CA against object literals in function inv...   \n",
       "1  Update branding for Appcelerator plugin to App...   \n",
       "2                Create new JSON schema for SDK team   \n",
       "3            Create Project References Property Page   \n",
       "4                         New Desktop Project Wizard   \n",
       "5          Launch application on Blackberry emulator   \n",
       "6        Launch application on iOS device (tethered)   \n",
       "7    Launch application on Android device (tethered)   \n",
       "8                Create packager for Desktop project   \n",
       "9             Create packager for Mobile/iOS project   \n",
       "\n",
       "                                         description  storypoint  \n",
       "0  {html}<div><p>The idea here is that if our met...           1  \n",
       "1  {html}<div><p>At least fix feature icons, asso...           1  \n",
       "2  {html}<div><p>Create JSON schema containing pr...           1  \n",
       "3  {html}<div><p>Create property page for project...           1  \n",
       "4  {html}<div><p>Desktop (need to convert existin...           1  \n",
       "5  {html}<div><p>Note that some emulators are pla...           1  \n",
       "6  {html}<div><p>Replicate experience from TiDev ...           1  \n",
       "7  {html}<div><p>Check for items below as part of...           1  \n",
       "8  {html}<div><p>Desktop, send ZIP file to web se...           1  \n",
       "9  {html}<div><p>Follow existing screens/workflow...           1  "
      ]
     },
     "execution_count": 6,
     "metadata": {},
     "output_type": "execute_result"
    }
   ],
   "source": [
    "import pandas as pd\n",
    "\n",
    "df = pd.read_csv(\"hf://datasets/giseldo/deep-se/deep-se.csv\")\n",
    "\n",
    "df.head(10)"
   ]
  },
  {
   "cell_type": "code",
   "execution_count": 7,
   "metadata": {},
   "outputs": [
    {
     "data": {
      "text/plain": [
       "(23313, 5)"
      ]
     },
     "execution_count": 7,
     "metadata": {},
     "output_type": "execute_result"
    }
   ],
   "source": [
    "df.shape"
   ]
  },
  {
   "cell_type": "code",
   "execution_count": 8,
   "metadata": {},
   "outputs": [
    {
     "data": {
      "text/plain": [
       "(16,)"
      ]
     },
     "execution_count": 8,
     "metadata": {},
     "output_type": "execute_result"
    }
   ],
   "source": [
    "df['project'].value_counts().shape"
   ]
  },
  {
   "cell_type": "code",
   "execution_count": 9,
   "metadata": {},
   "outputs": [
    {
     "data": {
      "text/plain": [
       "(2919, 5)"
      ]
     },
     "execution_count": 9,
     "metadata": {},
     "output_type": "execute_result"
    }
   ],
   "source": [
    "df = df[df['project'] == 'appceleratorstudio']\n",
    "df.shape"
   ]
  },
  {
   "cell_type": "code",
   "execution_count": 10,
   "metadata": {},
   "outputs": [
    {
     "data": {
      "text/plain": [
       "Index(['project', 'issuekey', 'title', 'description', 'storypoint'], dtype='object')"
      ]
     },
     "execution_count": 10,
     "metadata": {},
     "output_type": "execute_result"
    }
   ],
   "source": [
    "df.columns"
   ]
  },
  {
   "cell_type": "code",
   "execution_count": null,
   "metadata": {},
   "outputs": [],
   "source": []
  }
 ],
 "metadata": {
  "kernelspec": {
   "display_name": ".venv",
   "language": "python",
   "name": "python3"
  },
  "language_info": {
   "codemirror_mode": {
    "name": "ipython",
    "version": 3
   },
   "file_extension": ".py",
   "mimetype": "text/x-python",
   "name": "python",
   "nbconvert_exporter": "python",
   "pygments_lexer": "ipython3",
   "version": "3.10.0"
  }
 },
 "nbformat": 4,
 "nbformat_minor": 2
}
