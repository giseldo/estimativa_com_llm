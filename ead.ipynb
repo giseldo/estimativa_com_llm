{
 "cells": [
  {
   "cell_type": "code",
   "execution_count": 8,
   "id": "77b0e642",
   "metadata": {},
   "outputs": [],
   "source": [
    "from datasets import load_dataset\n",
    "\n",
    "ds = load_dataset(\"giseldo/neodataset\")"
   ]
  },
  {
   "cell_type": "code",
   "execution_count": 9,
   "id": "336d8bfe",
   "metadata": {},
   "outputs": [
    {
     "name": "stdout",
     "output_type": "stream",
     "text": [
      "DatasetDict({\n",
      "    train: Dataset({\n",
      "        features: ['idproject', 'issuekey', 'created', 'title', 'description', 'storypoints'],\n",
      "        num_rows: 20479\n",
      "    })\n",
      "})\n"
     ]
    }
   ],
   "source": [
    "print(ds)"
   ]
  },
  {
   "cell_type": "code",
   "execution_count": 10,
   "id": "df7da3b1",
   "metadata": {},
   "outputs": [],
   "source": [
    "df = ds['train'].to_pandas()"
   ]
  },
  {
   "cell_type": "code",
   "execution_count": 5,
   "id": "ae37991c",
   "metadata": {},
   "outputs": [
    {
     "data": {
      "text/html": [
       "<div>\n",
       "<style scoped>\n",
       "    .dataframe tbody tr th:only-of-type {\n",
       "        vertical-align: middle;\n",
       "    }\n",
       "\n",
       "    .dataframe tbody tr th {\n",
       "        vertical-align: top;\n",
       "    }\n",
       "\n",
       "    .dataframe thead th {\n",
       "        text-align: right;\n",
       "    }\n",
       "</style>\n",
       "<table border=\"1\" class=\"dataframe\">\n",
       "  <thead>\n",
       "    <tr style=\"text-align: right;\">\n",
       "      <th></th>\n",
       "      <th>idproject</th>\n",
       "      <th>issuekey</th>\n",
       "      <th>created</th>\n",
       "      <th>title</th>\n",
       "      <th>description</th>\n",
       "      <th>storypoints</th>\n",
       "    </tr>\n",
       "  </thead>\n",
       "  <tbody>\n",
       "    <tr>\n",
       "      <th>0</th>\n",
       "      <td>10152778</td>\n",
       "      <td>19541701</td>\n",
       "      <td>2019-03-28 15:04:16.070</td>\n",
       "      <td>(feat): change 'from' email address to 'no-rep...</td>\n",
       "      <td>Emails should not point to info@minds.com</td>\n",
       "      <td>1.0</td>\n",
       "    </tr>\n",
       "    <tr>\n",
       "      <th>1</th>\n",
       "      <td>10152778</td>\n",
       "      <td>19273465</td>\n",
       "      <td>2019-03-20 02:11:19.496</td>\n",
       "      <td>(bug): Link previews disappear when editing a ...</td>\n",
       "      <td>### Summary\\r\\n\\r\\nWhen editing a status post ...</td>\n",
       "      <td>3.0</td>\n",
       "    </tr>\n",
       "    <tr>\n",
       "      <th>2</th>\n",
       "      <td>10152778</td>\n",
       "      <td>18774779</td>\n",
       "      <td>2019-03-04 11:21:14.993</td>\n",
       "      <td>(bug): subscribed blog post duplicates filling...</td>\n",
       "      <td>None</td>\n",
       "      <td>2.0</td>\n",
       "    </tr>\n",
       "    <tr>\n",
       "      <th>3</th>\n",
       "      <td>10152778</td>\n",
       "      <td>18438523</td>\n",
       "      <td>2019-02-20 16:14:17.411</td>\n",
       "      <td>(bug): Cant delete a reply to a comment on a b...</td>\n",
       "      <td>### Summary\\r\\n\\r\\nOn ones own blog post, whil...</td>\n",
       "      <td>5.0</td>\n",
       "    </tr>\n",
       "    <tr>\n",
       "      <th>4</th>\n",
       "      <td>10152778</td>\n",
       "      <td>18177704</td>\n",
       "      <td>2019-02-12 16:55:06.846</td>\n",
       "      <td>Counter in group convo-feeds counts 2 seconds ...</td>\n",
       "      <td>### Summary\\r\\n\\r\\nWhen a comment is is left i...</td>\n",
       "      <td>5.0</td>\n",
       "    </tr>\n",
       "  </tbody>\n",
       "</table>\n",
       "</div>"
      ],
      "text/plain": [
       "   idproject  issuekey                  created  \\\n",
       "0   10152778  19541701  2019-03-28 15:04:16.070   \n",
       "1   10152778  19273465  2019-03-20 02:11:19.496   \n",
       "2   10152778  18774779  2019-03-04 11:21:14.993   \n",
       "3   10152778  18438523  2019-02-20 16:14:17.411   \n",
       "4   10152778  18177704  2019-02-12 16:55:06.846   \n",
       "\n",
       "                                               title  \\\n",
       "0  (feat): change 'from' email address to 'no-rep...   \n",
       "1  (bug): Link previews disappear when editing a ...   \n",
       "2  (bug): subscribed blog post duplicates filling...   \n",
       "3  (bug): Cant delete a reply to a comment on a b...   \n",
       "4  Counter in group convo-feeds counts 2 seconds ...   \n",
       "\n",
       "                                         description  storypoints  \n",
       "0          Emails should not point to info@minds.com          1.0  \n",
       "1  ### Summary\\r\\n\\r\\nWhen editing a status post ...          3.0  \n",
       "2                                               None          2.0  \n",
       "3  ### Summary\\r\\n\\r\\nOn ones own blog post, whil...          5.0  \n",
       "4  ### Summary\\r\\n\\r\\nWhen a comment is is left i...          5.0  "
      ]
     },
     "execution_count": 5,
     "metadata": {},
     "output_type": "execute_result"
    }
   ],
   "source": [
    "df.head()"
   ]
  },
  {
   "cell_type": "code",
   "execution_count": 14,
   "id": "c23b3b16",
   "metadata": {},
   "outputs": [
    {
     "data": {
      "text/plain": [
       "(33,)"
      ]
     },
     "execution_count": 14,
     "metadata": {},
     "output_type": "execute_result"
    }
   ],
   "source": [
    "distinct_values = df['idproject'].unique()\n",
    "\n",
    "distinct_values.shape"
   ]
  },
  {
   "cell_type": "code",
   "execution_count": null,
   "id": "6a8a7829",
   "metadata": {},
   "outputs": [],
   "source": []
  },
  {
   "cell_type": "code",
   "execution_count": 6,
   "id": "812ff654",
   "metadata": {},
   "outputs": [
    {
     "data": {
      "text/plain": [
       "(20479, 6)"
      ]
     },
     "execution_count": 6,
     "metadata": {},
     "output_type": "execute_result"
    }
   ],
   "source": [
    "df.shape"
   ]
  }
 ],
 "metadata": {
  "kernelspec": {
   "display_name": ".venv",
   "language": "python",
   "name": "python3"
  },
  "language_info": {
   "codemirror_mode": {
    "name": "ipython",
    "version": 3
   },
   "file_extension": ".py",
   "mimetype": "text/x-python",
   "name": "python",
   "nbconvert_exporter": "python",
   "pygments_lexer": "ipython3",
   "version": "3.10.0"
  }
 },
 "nbformat": 4,
 "nbformat_minor": 5
}
